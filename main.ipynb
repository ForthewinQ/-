{
 "cells": [
  {
   "cell_type": "code",
   "execution_count": 3,
   "metadata": {},
   "outputs": [
    {
     "name": "stderr",
     "output_type": "stream",
     "text": [
      "INFO:OBS:Successfully download hwc obs://softcup/segmentation/panoptic_deeplab_X101_32x8d_os32_cityscapes.pth to local /home/ma-user/work/configs/\n"
     ]
    }
   ],
   "source": [
    "\n",
    "from modelarts.session import Session\n",
    "session = Session()\n",
    "session.obs.download_file(src_obs_file=\"obs://softcup/segmentation/panoptic_deeplab_X101_32x8d_os32_cityscapes.pth\", dst_local_dir=\"/home/ma-user/work/configs/\")"
   ]
  },
  {
   "cell_type": "code",
   "execution_count": 7,
   "metadata": {},
   "outputs": [
    {
     "name": "stderr",
     "output_type": "stream",
     "text": [
      "WARNING:root:Retry=9, Wait=0.1, Timestamp=1595464696.0654352\n",
      "WARNING:root:Retry=8, Wait=0.2, Timestamp=1595464696.1806774\n",
      "WARNING:root:Retry=7, Wait=0.4, Timestamp=1595464696.3950431\n",
      "WARNING:root:Retry=6, Wait=0.8, Timestamp=1595464696.811259\n",
      "WARNING:root:Retry=5, Wait=1.6, Timestamp=1595464697.8559518\n",
      "WARNING:root:Retry=4, Wait=3.2, Timestamp=1595464699.4963365\n",
      "WARNING:root:Retry=3, Wait=6.4, Timestamp=1595464702.7160225\n",
      "WARNING:root:Retry=2, Wait=12.8, Timestamp=1595464709.1388638\n",
      "WARNING:root:Retry=1, Wait=25.6, Timestamp=1595464721.961446\n",
      "ERROR:root:Failed to call:\n",
      "\tfunc=<bound method ObsClient.getObjectMetadata of <moxing.framework.file.src.obs.client.ObsClient object at 0x7fd530c84b38>>\n",
      "\targs=('dsjgb', '软件杯初赛视频.mp4')\n",
      "\tkwargs={}\n",
      "ERROR:root:\n",
      "\tstat:403\n",
      "\terrorCode:None\n",
      "\terrorMessage:None\n",
      "\treason:Forbidden\n",
      "\trequest-id:00000173791BA62844CA5C739C901351\n",
      "\tretry:0\n"
     ]
    },
    {
     "ename": "MoxFileRespException",
     "evalue": "Error occurs when accessing to OBS.",
     "output_type": "error",
     "traceback": [
      "\u001b[0;31m---------------------------------------------------------------------------\u001b[0m",
      "\u001b[0;31mMoxFileRespException\u001b[0m                      Traceback (most recent call last)",
      "\u001b[0;32m<ipython-input-7-4a005f5a349c>\u001b[0m in \u001b[0;36m<module>\u001b[0;34m()\u001b[0m\n\u001b[1;32m      1\u001b[0m \u001b[0;32mimport\u001b[0m \u001b[0mmoxing\u001b[0m \u001b[0;32mas\u001b[0m \u001b[0mmox\u001b[0m\u001b[0;34m\u001b[0m\u001b[0m\n\u001b[0;32m----> 2\u001b[0;31m \u001b[0mmox\u001b[0m\u001b[0;34m.\u001b[0m\u001b[0mfile\u001b[0m\u001b[0;34m.\u001b[0m\u001b[0mcopy\u001b[0m\u001b[0;34m(\u001b[0m\u001b[0;34m's3://dsjgb/软件杯初赛视频.mp4'\u001b[0m\u001b[0;34m,\u001b[0m \u001b[0;34m'/home/ma-user/work/input_video/a.mp4'\u001b[0m\u001b[0;34m)\u001b[0m\u001b[0;34m\u001b[0m\u001b[0m\n\u001b[0m",
      "\u001b[0;32m~/anaconda3/envs/TensorFlow-1.13.1/lib/python3.6/site-packages/moxing/framework/util/runtime.pyc\u001b[0m in \u001b[0;36mwrapper\u001b[0;34m(*args, **kwargs)\u001b[0m\n",
      "\u001b[0;32m~/anaconda3/envs/TensorFlow-1.13.1/lib/python3.6/site-packages/moxing/framework/file/file_io.pyc\u001b[0m in \u001b[0;36mcopy\u001b[0;34m(src_url, dst_url, client_id)\u001b[0m\n",
      "\u001b[0;32m~/anaconda3/envs/TensorFlow-1.13.1/lib/python3.6/site-packages/moxing/framework/file/file_io.pyc\u001b[0m in \u001b[0;36m_download_obs\u001b[0;34m(obs_client, bucket_name, object_key, local_file)\u001b[0m\n",
      "\u001b[0;32m~/anaconda3/envs/TensorFlow-1.13.1/lib/python3.6/site-packages/moxing/framework/file/file_io.pyc\u001b[0m in \u001b[0;36m_get_size_obs\u001b[0;34m(obs_client, bucket_name, object_key, recursive)\u001b[0m\n",
      "\u001b[0;32m~/anaconda3/envs/TensorFlow-1.13.1/lib/python3.6/site-packages/moxing/framework/file/file_io.pyc\u001b[0m in \u001b[0;36m_retryable_call\u001b[0;34m(obs_client, func_name, *args, **kwargs)\u001b[0m\n",
      "\u001b[0;31mMoxFileRespException\u001b[0m: Error occurs when accessing to OBS."
     ]
    }
   ],
   "source": [
    "import moxing as mox\n",
    "mox.file.copy('s3://dsjgb/软件杯初赛视频.mp4', '/home/ma-user/work/input_video/a.mp4')"
   ]
  },
  {
   "cell_type": "code",
   "execution_count": 2,
   "metadata": {},
   "outputs": [
    {
     "name": "stderr",
     "output_type": "stream",
     "text": [
      "ERROR:OBS:The local file /home/ma-user/work/output/软件杯初赛视频.mp4 is not exist\n"
     ]
    },
    {
     "ename": "Exception",
     "evalue": "The local file /home/ma-user/work/output/软件杯初赛视频.mp4 is not exist",
     "output_type": "error",
     "traceback": [
      "\u001b[0;31m---------------------------------------------------------------------------\u001b[0m",
      "\u001b[0;31mException\u001b[0m                                 Traceback (most recent call last)",
      "\u001b[0;32m<ipython-input-2-fbb9ee921ce5>\u001b[0m in \u001b[0;36m<module>\u001b[0;34m()\u001b[0m\n\u001b[1;32m      1\u001b[0m \u001b[0;32mfrom\u001b[0m \u001b[0mmodelarts\u001b[0m\u001b[0;34m.\u001b[0m\u001b[0msession\u001b[0m \u001b[0;32mimport\u001b[0m \u001b[0mSession\u001b[0m\u001b[0;34m\u001b[0m\u001b[0m\n\u001b[1;32m      2\u001b[0m \u001b[0msession\u001b[0m \u001b[0;34m=\u001b[0m \u001b[0mSession\u001b[0m\u001b[0;34m(\u001b[0m\u001b[0;34m)\u001b[0m\u001b[0;34m\u001b[0m\u001b[0m\n\u001b[0;32m----> 3\u001b[0;31m \u001b[0msession\u001b[0m\u001b[0;34m.\u001b[0m\u001b[0mobs\u001b[0m\u001b[0;34m.\u001b[0m\u001b[0mupload_file\u001b[0m\u001b[0;34m(\u001b[0m\u001b[0msrc_local_file\u001b[0m\u001b[0;34m=\u001b[0m\u001b[0;34m'/home/ma-user/work/output/软件杯初赛视频.mp4'\u001b[0m\u001b[0;34m,\u001b[0m \u001b[0mdst_obs_dir\u001b[0m\u001b[0;34m=\u001b[0m\u001b[0;34m'obs://softcup/'\u001b[0m\u001b[0;34m)\u001b[0m\u001b[0;34m\u001b[0m\u001b[0m\n\u001b[0m",
      "\u001b[0;32m~/modelarts-sdk/modelarts/obs_mgmt.py\u001b[0m in \u001b[0;36mupload_file\u001b[0;34m(self, src_local_file, dst_obs_dir)\u001b[0m\n\u001b[1;32m     67\u001b[0m         \u001b[0;34m:\u001b[0m\u001b[0;32mreturn\u001b[0m\u001b[0;34m:\u001b[0m\u001b[0;34m\u001b[0m\u001b[0m\n\u001b[1;32m     68\u001b[0m         \"\"\"\n\u001b[0;32m---> 69\u001b[0;31m         \u001b[0mself\u001b[0m\u001b[0;34m.\u001b[0m\u001b[0mobs_client\u001b[0m\u001b[0;34m.\u001b[0m\u001b[0mupload_file\u001b[0m\u001b[0;34m(\u001b[0m\u001b[0msrc_local_file\u001b[0m\u001b[0;34m,\u001b[0m \u001b[0mdst_obs_dir\u001b[0m\u001b[0;34m)\u001b[0m\u001b[0;34m\u001b[0m\u001b[0m\n\u001b[0m\u001b[1;32m     70\u001b[0m \u001b[0;34m\u001b[0m\u001b[0m\n\u001b[1;32m     71\u001b[0m     \u001b[0;32mdef\u001b[0m \u001b[0mupload_dir\u001b[0m\u001b[0;34m(\u001b[0m\u001b[0mself\u001b[0m\u001b[0;34m,\u001b[0m \u001b[0msrc_local_dir\u001b[0m\u001b[0;34m,\u001b[0m \u001b[0mdst_obs_dir\u001b[0m\u001b[0;34m)\u001b[0m\u001b[0;34m:\u001b[0m\u001b[0;34m\u001b[0m\u001b[0m\n",
      "\u001b[0;32m~/modelarts-sdk/modelarts/obs_mgmt.py\u001b[0m in \u001b[0;36mupload_file\u001b[0;34m(self, src_local_file, dst_obs_dir)\u001b[0m\n\u001b[1;32m    769\u001b[0m         \"\"\"\n\u001b[1;32m    770\u001b[0m         \u001b[0mOBSApiBase\u001b[0m\u001b[0;34m.\u001b[0m\u001b[0mis_legal_obs_dir_head_tail\u001b[0m\u001b[0;34m(\u001b[0m\u001b[0mdst_obs_dir\u001b[0m\u001b[0;34m)\u001b[0m\u001b[0;34m\u001b[0m\u001b[0m\n\u001b[0;32m--> 771\u001b[0;31m         \u001b[0mOBSApiBase\u001b[0m\u001b[0;34m.\u001b[0m\u001b[0mis_local_file\u001b[0m\u001b[0;34m(\u001b[0m\u001b[0msrc_local_file\u001b[0m\u001b[0;34m)\u001b[0m\u001b[0;34m\u001b[0m\u001b[0m\n\u001b[0m\u001b[1;32m    772\u001b[0m \u001b[0;34m\u001b[0m\u001b[0m\n\u001b[1;32m    773\u001b[0m         \u001b[0mfile_path\u001b[0m\u001b[0;34m,\u001b[0m \u001b[0mfile_name\u001b[0m \u001b[0;34m=\u001b[0m \u001b[0mos\u001b[0m\u001b[0;34m.\u001b[0m\u001b[0mpath\u001b[0m\u001b[0;34m.\u001b[0m\u001b[0msplit\u001b[0m\u001b[0;34m(\u001b[0m\u001b[0msrc_local_file\u001b[0m\u001b[0;34m)\u001b[0m\u001b[0;34m\u001b[0m\u001b[0m\n",
      "\u001b[0;32m~/modelarts-sdk/modelarts/obs_mgmt.py\u001b[0m in \u001b[0;36mis_local_file\u001b[0;34m(cls, local_file)\u001b[0m\n\u001b[1;32m    280\u001b[0m         \u001b[0;32mif\u001b[0m \u001b[0;32mnot\u001b[0m \u001b[0mos\u001b[0m\u001b[0;34m.\u001b[0m\u001b[0mpath\u001b[0m\u001b[0;34m.\u001b[0m\u001b[0misfile\u001b[0m\u001b[0;34m(\u001b[0m\u001b[0mlocal_file\u001b[0m\u001b[0;34m)\u001b[0m\u001b[0;34m:\u001b[0m\u001b[0;34m\u001b[0m\u001b[0m\n\u001b[1;32m    281\u001b[0m             \u001b[0merror_reason\u001b[0m \u001b[0;34m=\u001b[0m \u001b[0;34m\"The local file {} is not exist\"\u001b[0m\u001b[0;34m.\u001b[0m\u001b[0mformat\u001b[0m\u001b[0;34m(\u001b[0m\u001b[0mlocal_file\u001b[0m\u001b[0;34m)\u001b[0m\u001b[0;34m\u001b[0m\u001b[0m\n\u001b[0;32m--> 282\u001b[0;31m             \u001b[0mcls\u001b[0m\u001b[0;34m.\u001b[0m\u001b[0mhandle_exception_logs\u001b[0m\u001b[0;34m(\u001b[0m\u001b[0merror_reason\u001b[0m\u001b[0;34m)\u001b[0m\u001b[0;34m\u001b[0m\u001b[0m\n\u001b[0m\u001b[1;32m    283\u001b[0m \u001b[0;34m\u001b[0m\u001b[0m\n\u001b[1;32m    284\u001b[0m         \u001b[0;32mreturn\u001b[0m \u001b[0mos\u001b[0m\u001b[0;34m.\u001b[0m\u001b[0mpath\u001b[0m\u001b[0;34m.\u001b[0m\u001b[0misfile\u001b[0m\u001b[0;34m(\u001b[0m\u001b[0mlocal_file\u001b[0m\u001b[0;34m)\u001b[0m\u001b[0;34m\u001b[0m\u001b[0m\n",
      "\u001b[0;32m~/modelarts-sdk/modelarts/obs_mgmt.py\u001b[0m in \u001b[0;36mhandle_exception_logs\u001b[0;34m(cls, error_reason)\u001b[0m\n\u001b[1;32m    303\u001b[0m         \"\"\"\n\u001b[1;32m    304\u001b[0m         \u001b[0mOBSLogger\u001b[0m\u001b[0;34m.\u001b[0m\u001b[0mcommon_error_log\u001b[0m\u001b[0;34m(\u001b[0m\u001b[0merror_content\u001b[0m\u001b[0;34m=\u001b[0m\u001b[0merror_reason\u001b[0m\u001b[0;34m)\u001b[0m\u001b[0;34m\u001b[0m\u001b[0m\n\u001b[0;32m--> 305\u001b[0;31m         \u001b[0;32mraise\u001b[0m \u001b[0mException\u001b[0m\u001b[0;34m(\u001b[0m\u001b[0merror_reason\u001b[0m\u001b[0;34m)\u001b[0m\u001b[0;34m\u001b[0m\u001b[0m\n\u001b[0m\u001b[1;32m    306\u001b[0m \u001b[0;34m\u001b[0m\u001b[0m\n\u001b[1;32m    307\u001b[0m \u001b[0;34m\u001b[0m\u001b[0m\n",
      "\u001b[0;31mException\u001b[0m: The local file /home/ma-user/work/output/软件杯初赛视频.mp4 is not exist"
     ]
    }
   ],
   "source": [
    "from modelarts.session import Session\n",
    "session = Session()\n",
    "session.obs.upload_file(src_local_file='/home/ma-user/work/output/软件杯初赛视频.mp4', dst_obs_dir='obs://softcup/')"
   ]
  },
  {
   "cell_type": "code",
   "execution_count": 6,
   "metadata": {},
   "outputs": [
    {
     "name": "stderr",
     "output_type": "stream",
     "text": [
      "WARNING:root:Retry=9, Wait=0.1, Timestamp=1595467068.8631284\n",
      "WARNING:root:Retry=8, Wait=0.2, Timestamp=1595467068.985884\n",
      "WARNING:root:Retry=7, Wait=0.4, Timestamp=1595467069.2297318\n",
      "WARNING:root:Retry=6, Wait=0.8, Timestamp=1595467069.6471922\n",
      "WARNING:root:Retry=5, Wait=1.6, Timestamp=1595467070.465211\n",
      "WARNING:root:Retry=4, Wait=3.2, Timestamp=1595467072.0827315\n",
      "WARNING:root:Retry=3, Wait=6.4, Timestamp=1595467075.3019178\n",
      "WARNING:root:Retry=2, Wait=12.8, Timestamp=1595467081.72423\n",
      "WARNING:root:Retry=1, Wait=25.6, Timestamp=1595467094.5553603\n",
      "ERROR:root:Failed to call:\n",
      "\tfunc=<bound method ObsClient.getObjectMetadata of <moxing.framework.file.src.obs.client.ObsClient object at 0x7f5380610a20>>\n",
      "\targs=('dsjgd', 'video/')\n",
      "\tkwargs={}\n",
      "ERROR:root:\n",
      "\tstat:403\n",
      "\terrorCode:None\n",
      "\terrorMessage:None\n",
      "\treason:Forbidden\n",
      "\trequest-id:00000173793FDA1644CA61FB840625C5\n",
      "\tretry:0\n"
     ]
    },
    {
     "ename": "MoxFileRespException",
     "evalue": "Error occurs when accessing to OBS.",
     "output_type": "error",
     "traceback": [
      "\u001b[0;31m---------------------------------------------------------------------------\u001b[0m",
      "\u001b[0;31mMoxFileRespException\u001b[0m                      Traceback (most recent call last)",
      "\u001b[0;32m<ipython-input-6-e5868a105812>\u001b[0m in \u001b[0;36m<module>\u001b[0;34m()\u001b[0m\n\u001b[1;32m      1\u001b[0m \u001b[0;32mimport\u001b[0m \u001b[0mmoxing\u001b[0m \u001b[0;32mas\u001b[0m \u001b[0mmox\u001b[0m\u001b[0;34m\u001b[0m\u001b[0m\n\u001b[0;32m----> 2\u001b[0;31m \u001b[0mmox\u001b[0m\u001b[0;34m.\u001b[0m\u001b[0mfile\u001b[0m\u001b[0;34m.\u001b[0m\u001b[0mcopy_parallel\u001b[0m\u001b[0;34m(\u001b[0m\u001b[0;34m'/home/ma-user/work/output'\u001b[0m\u001b[0;34m,\u001b[0m \u001b[0;34m's3://dsjgd/video/ForTheWincailiao'\u001b[0m\u001b[0;34m)\u001b[0m\u001b[0;34m\u001b[0m\u001b[0m\n\u001b[0m",
      "\u001b[0;32m~/anaconda3/envs/TensorFlow-1.13.1/lib/python3.6/site-packages/moxing/framework/file/file_io.pyc\u001b[0m in \u001b[0;36mcopy_parallel\u001b[0;34m(src_url, dst_url, file_list, threads, is_processing, use_queue)\u001b[0m\n",
      "\u001b[0;32m~/anaconda3/envs/TensorFlow-1.13.1/lib/python3.6/site-packages/moxing/framework/util/runtime.pyc\u001b[0m in \u001b[0;36mwrapper\u001b[0;34m(*args, **kwargs)\u001b[0m\n",
      "\u001b[0;32m~/anaconda3/envs/TensorFlow-1.13.1/lib/python3.6/site-packages/moxing/framework/file/file_io.pyc\u001b[0m in \u001b[0;36mmake_dirs\u001b[0;34m(url)\u001b[0m\n",
      "\u001b[0;32m~/anaconda3/envs/TensorFlow-1.13.1/lib/python3.6/site-packages/moxing/framework/file/file_io.pyc\u001b[0m in \u001b[0;36m_make_dirs_obs\u001b[0;34m(obs_client, bucket_name, object_key)\u001b[0m\n",
      "\u001b[0;32m~/anaconda3/envs/TensorFlow-1.13.1/lib/python3.6/site-packages/moxing/framework/file/file_io.pyc\u001b[0m in \u001b[0;36m_exists_obs\u001b[0;34m(obs_client, bucket_name, object_key)\u001b[0m\n",
      "\u001b[0;32m~/anaconda3/envs/TensorFlow-1.13.1/lib/python3.6/site-packages/moxing/framework/file/file_io.pyc\u001b[0m in \u001b[0;36m_retryable_call\u001b[0;34m(obs_client, func_name, *args, **kwargs)\u001b[0m\n",
      "\u001b[0;31mMoxFileRespException\u001b[0m: Error occurs when accessing to OBS."
     ]
    }
   ],
   "source": [
    "import moxing as mox\n",
    "mox.file.copy_parallel('/home/ma-user/work/output', 's3://dsjgd/video/ForTheWincailiao')"
   ]
  },
  {
   "cell_type": "code",
   "execution_count": 3,
   "metadata": {},
   "outputs": [
    {
     "name": "stderr",
     "output_type": "stream",
     "text": [
      "INFO:root:Using MoXing-v1.15.1-3fc51aac\n",
      "INFO:root:Using OBS-Python-SDK-3.1.2\n"
     ]
    }
   ],
   "source": [
    "import moxing as mox\n",
    "mox.file.copy_parallel('/home/ma-user/work/output', 'obs://softcup/data')"
   ]
  },
  {
   "cell_type": "code",
   "execution_count": null,
   "metadata": {},
   "outputs": [],
   "source": [
    "from modelarts.session import Session\n",
    "session = Session()\n",
    "session.obs.upload_dir(src_local_dir='/home/ma-user/work/output/', dst_obs_dir='s3://dsjgd/video/ForTheWincailiao/')"
   ]
  },
  {
   "cell_type": "code",
   "execution_count": 1,
   "metadata": {},
   "outputs": [
    {
     "name": "stdout",
     "output_type": "stream",
     "text": [
      "Collecting torch===1.6.0\n",
      "  Downloading http://repo.myhuaweicloud.com/repository/pypi/packages/38/53/914885a93a44b96c0dd1c36f36ff10afe341f091230aad68f7228d61db1e/torch-1.6.0-cp36-cp36m-manylinux1_x86_64.whl (748.8MB)\n",
      "\u001b[K    100% |████████████████████████████████| 748.8MB 115.1MB/s ta 0:00:014MB 110.4MB/s eta 0:00:07B 107.1MB/s eta 0:00:07                | 12.6MB 107.4MB/s eta 0:00:07.2MB/s eta 0:00:06            | 24.2MB 118.2MB/s eta 0:00:07                    | 33.2MB 38.8MB/s eta 0:00:19           | 37.5MB 63.6MB/s eta 0:00:12    | 42.8MB 86.8MB/s eta 0:00:09:00:06             | 51.4MB 115.3MB/s eta 0:00:07�▍                             | 56.1MB 141.3MB/s eta 0:00:05 |██▋                             | 60.7MB 143.1MB/s eta 0:00:05           | 65.8MB 47.2MB/s eta 0:00:15███                             | 70.7MB 142.7MB/s eta 0:00:05                           | 79.6MB 128.0MB/s eta 0:00:060:00:07��▉                            | 89.8MB 120.5MB/s eta 0:00:06 | 94.2MB 95.7MB/s eta 0:00:07|████▏                           | 98.3MB 39.3MB/s eta 0:00:17   | 102.2MB 64.7MB/s eta 0:00:10ta 0:00:11                  | 111.5MB 142.9MB/s eta 0:00:05                   | 115.8MB 67.8MB/s eta 0:00:10.8MB/s eta 0:00:11/s eta 0:00:06MB 42.5MB/s eta 0:00:150:10                    | 137.3MB 128.6MB/s eta 0:00:0558.9MB/s eta 0:00:11[K    19% |██████▎                         | 145.6MB 142.7MB/s eta 0:00:05                      | 149.6MB 98.4MB/s eta 0:00:07                     | 153.9MB 63.2MB/s eta 0:00:10   21% |██████▊                         | 157.8MB 61.3MB/s eta 0:00:1041.9MB/s eta 0:00:14�██▏                        | 166.5MB 59.0MB/s eta 0:00:10s eta 0:00:10a 0:00:05a 0:00:09B/s eta 0:00:0632.8MB/s eta 0:00:05�▎                       | 192.6MB 121.5MB/s eta 0:00:05                | 196.4MB 96.9MB/s eta 0:00:064MB/s eta 0:00:04████████▊                       | 203.9MB 57.4MB/s eta 0:00:10                | 207.5MB 80.1MB/s eta 0:00:07                     | 211.3MB 37.1MB/s eta 0:00:15B/s eta 0:00:05:00:044:00:04s eta 0:00:04 235.2MB 133.0MB/s eta 0:00:04                 | 239.4MB 118.8MB/s eta 0:00:05    32% |██████████▍                     | 243.4MB 56.5MB/s eta 0:00:09eta 0:00:04                | 255.0MB 132.0MB/s eta 0:00:04% |███████████                     | 259.0MB 41.2MB/s eta 0:00:12��█████████▎                    | 262.9MB 70.8MB/s eta 0:00:07████████▍                    | 266.8MB 143.5MB/s eta 0:00:04████████▌                    | 270.3MB 61.1MB/s eta 0:00:08��████████▊                    | 274.1MB 106.1MB/s eta 0:00:05 |███████████▉                    | 277.6MB 146.5MB/s eta 0:00:0464.8MB/s eta 0:00:08 288.5MB 141.3MB/s eta 0:00:045MB 61.0MB/s eta 0:00:0863.1MB/s eta 0:00:08 299.9MB 140.8MB/s eta 0:00:04�█████████                   | 304.0MB 103.4MB/s eta 0:00:05██████▏                  | 308.3MB 131.6MB/s eta 0:00:04            | 311.8MB 62.2MB/s eta 0:00:08 55.0MB/s eta 0:00:08��█████▋                  | 319.5MB 135.2MB/s eta 0:00:04�█████                  | 325.7MB 56.9MB/s eta 0:00:083MB 63.7MB/s eta 0:00:0733.6MB 146.7MB/s eta 0:00:03B 126.8MB/s eta 0:00:04    45% |██████████████▊                 | 343.2MB 60.3MB/s eta 0:00:07    46% |██████████████▉                 | 346.7MB 117.3MB/s eta 0:00:04eta 0:00:07   | 357.1MB 53.6MB/s eta 0:00:08�███████████▌                | 363.9MB 59.8MB/s eta 0:00:07          | 366.9MB 59.0MB/s eta 0:00:07�██████                | 373.7MB 134.4MB/s eta 0:00:0306�██▎               | 380.7MB 42.8MB/s eta 0:00:09    51% |████████████████▍               | 383.3MB 124.8MB/s eta 0:00:03�████████▌               | 386.4MB 36.6MB/s eta 0:00:10            | 389.7MB 124.5MB/s eta 0:00:03�██████████▉               | 393.3MB 126.0MB/s eta 0:00:03�███████████               | 396.5MB 137.0MB/s eta 0:00:03s eta 0:00:0307/s eta 0:00:03�█▌              | 410.0MB 133.0MB/s eta 0:00:03:00:03MB/s eta 0:00:08:06429.8MB 145.5MB/s eta 0:00:03��███████▌             | 432.9MB 125.9MB/s eta 0:00:038% |██████████████████▋             | 436.1MB 46.6MB/s eta 0:00:07          | 439.1MB 143.5MB/s eta 0:00:03           | 442.6MB 100.7MB/s eta 0:00:04           | 446.6MB 101.4MB/s eta 0:00:03��█████████▏            | 449.7MB 106.0MB/s eta 0:00:03�████████▍            | 452.9MB 51.5MB/s eta 0:00:06�█▌            | 455.6MB 137.3MB/s eta 0:00:03 459.2MB 62.4MB/s eta 0:00:05     | 462.2MB 125.2MB/s eta 0:00:03��███████████████▉            | 465.4MB 57.6MB/s eta 0:00:05�██            | 468.5MB 142.6MB/s eta 0:00:0202    63% |████████████████████▎           | 474.8MB 36.1MB/s eta 0:00:08   | 478.8MB 136.9MB/s eta 0:00:0203██████████████████▊           | 486.2MB 35.2MB/s eta 0:00:08    65% |█████████████████████           | 489.7MB 125.4MB/s eta 0:00:03    65% |█████████████████████           | 493.3MB 128.7MB/s eta 0:00:02��█████████████████▏          | 496.2MB 40.3MB/s eta 0:00:07.8MB 135.7MB/s eta 0:00:02 507.3MB 60.3MB/s eta 0:00:05�█████████████████▉          | 510.2MB 120.6MB/s eta 0:00:021MB 34.6MB/s eta 0:00:07 516.1MB 51.2MB/s eta 0:00:05MB/s eta 0:00:02��██████▎         | 521.4MB 140.5MB/s eta 0:00:02�██████▍         | 524.3MB 57.4MB/s eta 0:00:04MB/s eta 0:00:02��██████▊         | 531.4MB 51.7MB/s eta 0:00:05��████████████████         | 538.2MB 141.6MB/s eta 0:00:02�██████▏        | 541.4MB 40.6MB/s eta 0:00:06█████████████▎        | 544.8MB 144.4MB/s eta 0:00:02a 0:00:02�███████████████▋        | 551.5MB 140.4MB/s eta 0:00:02��██████████████████▊        | 554.8MB 131.4MB/s eta 0:00:02��██████████████████▉        | 557.6MB 119.4MB/s eta 0:00:02�██████████████        | 560.6MB 117.0MB/s eta 0:00:02██████████████████        | 564.1MB 86.3MB/s eta 0:00:037MB/s eta 0:00:02:00:02��█████████▌       | 573.8MB 139.8MB/s eta 0:00:02█████████▋       | 576.9MB 113.1MB/s eta 0:00:0200:02:02:00:02 588.2MB 61.8MB/s eta 0:00:03��██████████████▎      | 591.7MB 135.5MB/s eta 0:00:02��███████████▍      | 594.4MB 130.4MB/s eta 0:00:02    | 596.8MB 124.6MB/s eta 0:00:02  | 600.2MB 119.3MB/s eta 0:00:02�      | 605.3MB 134.4MB/s eta 0:00:02�████████████████      | 610.9MB 128.4MB/s eta 0:00:02K    81% |██████████████████████████▏     | 613.5MB 109.8MB/s eta 0:00:026.7MB 139.3MB/s eta 0:00:01�████████████████████████▌     | 619.1MB 134.8MB/s eta 0:00:01�██████████▋     | 621.8MB 132.3MB/s eta 0:00:01██████████████████████▊     | 624.4MB 52.8MB/s eta 0:00:0338.6MB/s eta 0:00:04�███████████     | 630.1MB 116.7MB/s eta 0:00:02�███████████     | 633.4MB 123.8MB/s eta 0:00:01�██████████████████████████▍    | 641.9MB 141.8MB/s eta 0:00:01███████████▊    | 649.7MB 48.6MB/s eta 0:00:03��███████████████    | 652.6MB 109.6MB/s eta 0:00:01��█████████████████████    | 655.3MB 51.1MB/s eta 0:00:02ta 0:00:01██████████████████████████▌   | 666.3MB 109.2MB/s eta 0:00:019% |████████████████████████████▊   | 671.1MB 34.8MB/s eta 0:00:03:00:01ta 0:00:01    90% |█████████████████████████████   | 679.4MB 75.0MB/s eta 0:00:01 682.1MB 118.5MB/s eta 0:00:014.9MB 95.4MB/s eta 0:00:01.3MB 56.9MB/s eta 0:00:029.4MB 46.8MB/s eta 0:00:02MB/s eta 0:00:01 696.4MB 141.4MB/s eta 0:00:01.5MB 52.3MB/s eta 0:00:01 701.0MB 97.9MB/s eta 0:00:01 703.4MB 124.5MB/s eta 0:00:01███████████████████████████▏ | 705.5MB 127.6MB/s eta 0:00:01��███████▎ | 707.8MB 95.2MB/s eta 0:00:01��███████▎ | 709.8MB 56.1MB/s eta 0:00:01�███████▍ | 711.7MB 47.1MB/s eta 0:00:01██████████████████████████████▋ | 716.6MB 31.6MB/s eta 0:00:02████████████████████████████▉ | 720.3MB 46.5MB/s eta 0:00:01�� | 724.5MB 134.4MB/s eta 0:00:01�█████████ | 726.9MB 122.5MB/s eta 0:00:01��██████████████████▎| 731.8MB 142.1MB/s eta 0:00:01��██████████████████▍| 733.7MB 117.6MB/s eta 0:00:01██████████████████▌| 737.8MB 112.1MB/s eta 0:00:01��█████████████████▊| 741.9MB 37.7MB/s eta 0:00:01�██▉| 744.0MB 133.3MB/s eta 0:00:01��███████████████████| 748.2MB 131.7MB/s eta 0:00:01\n",
      "\u001b[?25hCollecting torchvision===0.7.0\n",
      "  Downloading http://repo.myhuaweicloud.com/repository/pypi/packages/8e/dc/4a939cfbd38398f4765f712576df21425241020bfccc200af76d19088533/torchvision-0.7.0-cp36-cp36m-manylinux1_x86_64.whl (5.9MB)\n",
      "\u001b[K    100% |████████████████████████████████| 5.9MB 126.2MB/s ta 0:00:01██████████████████▉           | 3.9MB 126.8MB/s eta 0:00:01\n",
      "\u001b[?25hRequirement already satisfied: numpy in /home/ma-user/anaconda3/envs/TensorFlow-1.13.1/lib/python3.6/site-packages (from torch===1.6.0)\n",
      "Requirement already satisfied: future in /home/ma-user/anaconda3/envs/TensorFlow-1.13.1/lib/python3.6/site-packages (from torch===1.6.0)\n",
      "Requirement already satisfied: pillow>=4.1.1 in /home/ma-user/anaconda3/envs/TensorFlow-1.13.1/lib/python3.6/site-packages (from torchvision===0.7.0)\n",
      "Installing collected packages: torch, torchvision\n"
     ]
    },
    {
     "name": "stdout",
     "output_type": "stream",
     "text": [
      "Successfully installed torch-1.6.0 torchvision-0.7.0\n",
      "\u001b[33mYou are using pip version 9.0.1, however version 20.2.2 is available.\n",
      "You should consider upgrading via the 'pip install --upgrade pip' command.\u001b[0m\n"
     ]
    }
   ],
   "source": [
    "!pip install torch===1.6.0 torchvision===0.7.0"
   ]
  },
  {
   "cell_type": "code",
   "execution_count": 2,
   "metadata": {},
   "outputs": [
    {
     "name": "stdout",
     "output_type": "stream",
     "text": [
      "Collecting fvcore\n",
      "Collecting yacs>=0.1.6 (from fvcore)\n",
      "  Downloading http://repo.myhuaweicloud.com/repository/pypi/packages/38/4f/fe9a4d472aa867878ce3bb7efb16654c5d63672b86dc0e6e953a67018433/yacs-0.1.8-py3-none-any.whl\n",
      "Requirement already satisfied: Pillow in /home/ma-user/anaconda3/envs/TensorFlow-1.13.1/lib/python3.6/site-packages (from fvcore)\n",
      "Requirement already satisfied: numpy in /home/ma-user/anaconda3/envs/TensorFlow-1.13.1/lib/python3.6/site-packages (from fvcore)\n",
      "Requirement already satisfied: tabulate in /home/ma-user/anaconda3/envs/TensorFlow-1.13.1/lib/python3.6/site-packages (from fvcore)\n",
      "Requirement already satisfied: termcolor>=1.1 in /home/ma-user/anaconda3/envs/TensorFlow-1.13.1/lib/python3.6/site-packages (from fvcore)\n",
      "Collecting pyyaml>=5.1 (from fvcore)\n",
      "Collecting portalocker (from fvcore)\n",
      "  Downloading http://repo.myhuaweicloud.com/repository/pypi/packages/3b/e7/ceef002a300a98a208232fab593183249b6964b306ee7dabb29908419cca/portalocker-1.7.1-py2.py3-none-any.whl\n",
      "Requirement already satisfied: tqdm in /home/ma-user/anaconda3/envs/TensorFlow-1.13.1/lib/python3.6/site-packages (from fvcore)\n",
      "Installing collected packages: pyyaml, yacs, portalocker, fvcore\n",
      "  Found existing installation: PyYAML 3.12\n",
      "    Uninstalling PyYAML-3.12:\n",
      "      Successfully uninstalled PyYAML-3.12\n",
      "Successfully installed fvcore-0.1.1.post20200716 portalocker-1.7.1 pyyaml-5.3.1 yacs-0.1.8\n",
      "\u001b[33mYou are using pip version 9.0.1, however version 20.2.2 is available.\n",
      "You should consider upgrading via the 'pip install --upgrade pip' command.\u001b[0m\n"
     ]
    }
   ],
   "source": [
    "!pip install fvcore"
   ]
  },
  {
   "cell_type": "code",
   "execution_count": 2,
   "metadata": {},
   "outputs": [
    {
     "name": "stdout",
     "output_type": "stream",
     "text": [
      "Collecting opencv-contrib-python\n",
      "  Downloading http://repo.myhuaweicloud.com/repository/pypi/packages/c6/db/790dbc6bcfea87fc6f790c6306509c2691ce31c96d82e5b826545d90ea52/opencv_contrib_python-4.2.0.34-cp36-cp36m-manylinux1_x86_64.whl (34.2MB)\n",
      "\u001b[K    100% |████████████████████████████████| 34.2MB 82.2MB/s ta 0:00:011�███████▌                    | 12.3MB 120.4MB/s eta 0:00:01██████████                 | 16.0MB 62.6MB/s eta 0:00:01MB 133.3MB/s eta 0:00:01��███████████▏  | 31.1MB 89.7MB/s eta 0:00:01\n",
      "\u001b[?25hRequirement already satisfied: numpy>=1.11.3 in /home/ma-user/anaconda3/envs/TensorFlow-1.13.1/lib/python3.6/site-packages (from opencv-contrib-python)\n",
      "Installing collected packages: opencv-contrib-python\n",
      "Successfully installed opencv-contrib-python-4.2.0.34\n",
      "\u001b[33mYou are using pip version 9.0.1, however version 20.2.2 is available.\n",
      "You should consider upgrading via the 'pip install --upgrade pip' command.\u001b[0m\n"
     ]
    }
   ],
   "source": [
    "!pip install opencv-contrib-python"
   ]
  },
  {
   "cell_type": "code",
   "execution_count": null,
   "metadata": {},
   "outputs": [],
   "source": [
    "%matplotlib inline\n",
    "import matplotlib.pyplot as plt\n",
    "from yolo import YOLO\n",
    "import cv2\n",
    "import time\n",
    "from PIL import Image\n",
    "import numpy as np\n",
    "import  os\n",
    "\n",
    "# 调用摄像头\n",
    "capture=cv2.VideoCapture(\"input_video/软件杯决赛demo.mp4\")\n",
    "capture1 = cv2.VideoCapture(\"output/Video.avi\")\n",
    "fps = int(capture1.get(cv2.CAP_PROP_FPS))\n",
    "size = (int(capture1.get(cv2.CAP_PROP_FRAME_WIDTH)), int(capture1.get(cv2.CAP_PROP_FRAME_HEIGHT)))\n",
    "print(\"fps: {}\\nsize: {}\".format(fps, size))\n",
    "\n",
    "# 读取视频时长（帧总数）\n",
    "total = int(capture1.get(cv2.CAP_PROP_FRAME_COUNT))\n",
    "print(\"[INFO] {} total frames in video\".format(total))\n",
    "# 调用VideoWrite（）函数\n",
    "videoWrite = cv2.VideoWriter('output/outputVideo.avi', cv2.VideoWriter_fourcc(*'XVID'), fps, size)\n",
    "\n",
    "diclass = {'car': 0,'bus': 0, 'person': 0, 'bike': 0, 'truck': 0, 'motor': 0,'train': 0,'rider':0,'traffic sign': 0, 'traffic light': 0}\n",
    "txt = \"output/totalCount.txt\"  # 将要输出保存的文件地址\n",
    "\n",
    "yolo = YOLO()\n",
    "index = 0\n",
    "while capture1.isOpened():\n",
    "    t1 = time.time()\n",
    "    # 读取某一帧\n",
    "    ref, frame = capture.read()\n",
    "    _, frame1 = capture1.read()\n",
    "    # 进行检测\n",
    "    frame,class_dict = yolo.detect_image(frame,frame1)\n",
    "    with open(txt,\"w\") as f:\n",
    "        for k in class_dict.keys():\n",
    "            f.write(k + ': ' + str(class_dict[k]))  # 将字符串写入文件中\n",
    "            f.write(\"\\n\")  # 换行\n",
    "            \n",
    "    fps = (fps + (1. / (time.time() - t1))) / 2\n",
    "    #print(\"fps= %.2f\" % (fps))\n",
    "    frame = cv2.putText(frame, \"fps= %.2f\" % (fps), (20, 30), cv2.FONT_HERSHEY_SIMPLEX, 1, (144,238,144), 2)\n",
    "    \n",
    "    videoWrite.write(frame)\n",
    "    frame = cv2.cvtColor(frame,cv2.COLOR_RGB2BGR)\n",
    "    plt.figure(figsize=(10,10))\n",
    "    plt.imshow(frame)\n",
    "    plt.axis('on')\n",
    "    plt.show()\n",
    "    print(index)\n",
    "    index += 1\n",
    "capture.release()\n",
    "capture1.release()\n",
    "yolo.close_session()"
   ]
  },
  {
   "cell_type": "code",
   "execution_count": null,
   "metadata": {},
   "outputs": [],
   "source": []
  }
 ],
 "metadata": {
  "kernelspec": {
   "display_name": "TensorFlow-1.13.1",
   "language": "python",
   "name": "tensorflow-1.13.1"
  },
  "language_info": {
   "codemirror_mode": {
    "name": "ipython",
    "version": 3
   },
   "file_extension": ".py",
   "mimetype": "text/x-python",
   "name": "python",
   "nbconvert_exporter": "python",
   "pygments_lexer": "ipython3",
   "version": "3.6.4"
  }
 },
 "nbformat": 4,
 "nbformat_minor": 4
}
